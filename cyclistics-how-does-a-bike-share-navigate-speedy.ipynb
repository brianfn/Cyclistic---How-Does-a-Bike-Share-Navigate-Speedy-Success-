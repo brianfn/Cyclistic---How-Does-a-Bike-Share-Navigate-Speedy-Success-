{
 "cells": [
  {
   "cell_type": "markdown",
   "id": "8dcbe97e",
   "metadata": {
    "papermill": {
     "duration": 0.011612,
     "end_time": "2023-01-19T09:33:11.208244",
     "exception": false,
     "start_time": "2023-01-19T09:33:11.196632",
     "status": "completed"
    },
    "tags": []
   },
   "source": [
    "# How Does a Bike-Share Navigate Speedy Success?\n",
    "\n",
    "**Chao-Ting Fan**\n",
    "\n",
    "## Introduction:\n",
    "\n",
    "This project is the case study for the requirement from Google Data Analytics Capstone course.\n",
    "This is a exploratory analysis that involves a fictional bikeshare company.The analysis will follow the 6 phases of the Data Analysis process: Ask, Prepare, Process, Analyze, and Act (APPAA).\n",
    "\n",
    "## Sope of Work:\n",
    "\n",
    "**Ask and Identify the business task**\n",
    "* Producing a scope of work document\n",
    "* Framing a problem statement\n",
    "* Defining project goals and the measurements to define success by discussing the project with stakeholders and ascertaining expectations\n",
    "\n",
    "**Extract and prepare the data for exploration**\n",
    "* Identifying where data resides and its structure\n",
    "* Determine the credibility and integrity of the data that meet analysis standard (Reliabiliy, Originality, comprehensiveness, Current, Cited)\n",
    "* Addressing licensing, privacy, security, and accessibility concerns\n",
    "* Verifying data integrity\n",
    "* Identifying how the data helps answer the questions we're pursuing\n",
    "* Filtering and sorting the data\n",
    "\n",
    "**Process**\n",
    "* Check for dirty data - in particular for data that is outdated, duplicated, incomplete, inconsistent, and inaccurate\n",
    "* Wrangle and clean the data until we can apply unbiased and representative data analytics\n",
    "* Document cleaning processes and results\n",
    "\n",
    "**Descriptive analysis**\n",
    "* Ordanize and format the data\n",
    "* Identify patterns(Using aggregations, calculations, visuals)\n",
    "* Draw conclusions\n",
    "\n",
    "**Share key finding**\n",
    "* Create an effective and accessible presentation that answers the original business problem with compelling storytelling\n",
    "* Share insights to stakeholders\n",
    "\n",
    "**Act**\n",
    "* Based on the analysis conducted, provide recommendations for the marketing campaign to move forward with\n",
    "* Solve problems\n",
    "\n",
    "## About the company\n",
    "Cyclistic is a bike-share offering company established in 2016. Since then, the program has grown to a fleet of 5,824 bicycles that are geotracked and locked into a network of 692 stations across Chicago. The bikes can be unlocked from one station and returned to any other station in the system anytime. \n",
    "Cyclistic offers three pricing plan: Single-Ride Pass, Full-Day Pass, Annual Membership. Riders who purchase Single-Ride and Full-Day pass are refferred to as casual riders. Riders who purchase annual memberships are members.\n",
    "\n"
   ]
  },
  {
   "cell_type": "markdown",
   "id": "1c5fab34",
   "metadata": {
    "papermill": {
     "duration": 0.00991,
     "end_time": "2023-01-19T09:33:11.228081",
     "exception": false,
     "start_time": "2023-01-19T09:33:11.218171",
     "status": "completed"
    },
    "tags": []
   },
   "source": [
    "<font size=\"5\">1. Ask and Identify the Business Task </font>\n",
    "\n",
    "\n",
    "**Case Backgroud:**\n",
    "\n",
    "The director of Cyclistic thoerized maximizing the number of member will be the key to company’s success. Therefore, the marketing analyst needs to have a comprehensive understanding on how annual members and casual riders differ. After the executive approval, I’ll be designing a new marketing strategy and finding the data insights of turning casual riders into members.\n",
    "\n",
    "**Discussing Goals and Expectations**\n",
    "\n",
    "| Stakeholders | Expectations | Projects/Business Goals |\n",
    "|---|---|---|\n",
    "|Cyclistic Executive Team| Compelling, relevant, and straightforward insights to inform data-driven marketing decisions | Implementing strategic initiatives to promote business growth \n",
    "|Lily Moreno, Director of Marketing| Evidence to back up her theory and marketing recommendations | Convert a sizable group of casual riders to become annual members | \n",
    "|Marketing analytics team| Uncovering the differences and motivations behind different customer types | Produce data-driven and actionable results to inform business decision making \n",
    "\n",
    "**Question:**\n",
    "\n",
    "* How do annual members and casual riders use Cyclistic bikes differently?<br>\n",
    "* How might we influence casual riders to purchase annual subscriptions based on their riding habits?\n",
    "\n",
    "**Bussiness Task:**\n",
    "\n",
    "* Finding and understanding how casual user and members use the sevice differently.\n",
    "* Provide effective visuals and relevant data to support insights\n",
    "* Analyze rider's usage patterns to give recommendations for marketing membership conversion program."
   ]
  },
  {
   "cell_type": "markdown",
   "id": "5d0b3b06",
   "metadata": {
    "papermill": {
     "duration": 0.010571,
     "end_time": "2023-01-19T09:33:11.248406",
     "exception": false,
     "start_time": "2023-01-19T09:33:11.237835",
     "status": "completed"
    },
    "tags": []
   },
   "source": [
    "<font size=\"5\">2. Prepare and Organize the Relevant Data</font>\n",
    "\n",
    "**Task:**\n",
    "\n",
    " 1. Identify how the data is organized\n",
    " 2. Determine the credibility of the data.\n",
    " 3. Sort and Filter the data as necessary\n",
    " 4. Download and store the data \n",
    " \n",
    "#### Data Sources \n",
    "\n",
    "A total of **12 datasets** have been made available for each month starting from **May 2021 to April 2022**.  The data used in this case study is sourced from Motivate International Inc under [this agreement][1] and were obtained from [Divvy Trip Data][2]. Each data point represents a single bike trip from one docking station to the next and it captures the details of every ride logged by the customers of Cyclistic. This data that has been made publicly available has been scrubbed to omit rider's personal information.\n",
    "\n",
    "[1]: https://ride.divvybikes.com/data-license-agreement\n",
    "[2]: https://divvy-tripdata.s3.amazonaws.com/index.html"
   ]
  },
  {
   "cell_type": "code",
   "execution_count": 1,
   "id": "bcf53dc1",
   "metadata": {
    "execution": {
     "iopub.execute_input": "2023-01-19T09:33:11.274801Z",
     "iopub.status.busy": "2023-01-19T09:33:11.271274Z",
     "iopub.status.idle": "2023-01-19T09:33:13.327866Z",
     "shell.execute_reply": "2023-01-19T09:33:13.325496Z"
    },
    "papermill": {
     "duration": 2.072188,
     "end_time": "2023-01-19T09:33:13.331064",
     "exception": false,
     "start_time": "2023-01-19T09:33:11.258876",
     "status": "completed"
    },
    "tags": [],
    "vscode": {
     "languageId": "r"
    }
   },
   "outputs": [
    {
     "name": "stderr",
     "output_type": "stream",
     "text": [
      "Registered S3 methods overwritten by 'ggplot2':\n",
      "  method         from \n",
      "  [.quosures     rlang\n",
      "  c.quosures     rlang\n",
      "  print.quosures rlang\n",
      "Registered S3 method overwritten by 'rvest':\n",
      "  method            from\n",
      "  read_xml.response xml2\n",
      "── Attaching packages ─────────────────────────────────────── tidyverse 1.2.1 ──\n",
      "✔ ggplot2 3.1.1       ✔ purrr   0.3.2  \n",
      "✔ tibble  2.1.1       ✔ dplyr   0.8.0.1\n",
      "✔ tidyr   0.8.3       ✔ stringr 1.4.0  \n",
      "✔ readr   1.3.1       ✔ forcats 0.4.0  \n",
      "── Conflicts ────────────────────────────────────────── tidyverse_conflicts() ──\n",
      "✖ dplyr::filter() masks stats::filter()\n",
      "✖ dplyr::lag()    masks stats::lag()\n",
      "\n",
      "Attaching package: ‘lubridate’\n",
      "\n",
      "The following object is masked from ‘package:base’:\n",
      "\n",
      "    date\n",
      "\n",
      "\n",
      "Attaching package: ‘scales’\n",
      "\n",
      "The following object is masked from ‘package:purrr’:\n",
      "\n",
      "    discard\n",
      "\n",
      "The following object is masked from ‘package:readr’:\n",
      "\n",
      "    col_factor\n",
      "\n"
     ]
    },
    {
     "ename": "ERROR",
     "evalue": "Error in library(skimr): there is no package called ‘skimr’\n",
     "output_type": "error",
     "traceback": [
      "Error in library(skimr): there is no package called ‘skimr’\nTraceback:\n",
      "1. library(skimr)"
     ]
    }
   ],
   "source": [
    "# Load packages\n",
    "library(tidyverse)\n",
    "library(lubridate)\n",
    "library(scales)\n",
    "library(skimr)\n",
    "library(ggplot2)\n",
    "library(dplyr)\n",
    "library(readr)\n",
    "library(janitor)\n",
    "library(data.table)\n",
    "library(tidyr)\n"
   ]
  },
  {
   "cell_type": "code",
   "execution_count": 2,
   "id": "239a6852",
   "metadata": {
    "execution": {
     "iopub.execute_input": "2023-01-19T09:33:13.389637Z",
     "iopub.status.busy": "2023-01-19T09:33:13.356478Z",
     "iopub.status.idle": "2023-01-19T09:33:13.663160Z",
     "shell.execute_reply": "2023-01-19T09:33:13.661201Z"
    },
    "papermill": {
     "duration": 0.323657,
     "end_time": "2023-01-19T09:33:13.666213",
     "exception": false,
     "start_time": "2023-01-19T09:33:13.342556",
     "status": "completed"
    },
    "tags": [],
    "vscode": {
     "languageId": "r"
    }
   },
   "outputs": [],
   "source": [
    "library(geosphere)"
   ]
  },
  {
   "cell_type": "code",
   "execution_count": 3,
   "id": "21d9da5f",
   "metadata": {
    "execution": {
     "iopub.execute_input": "2023-01-19T09:33:13.693605Z",
     "iopub.status.busy": "2023-01-19T09:33:13.691374Z",
     "iopub.status.idle": "2023-01-19T09:33:50.652773Z",
     "shell.execute_reply": "2023-01-19T09:33:50.650713Z"
    },
    "papermill": {
     "duration": 36.979296,
     "end_time": "2023-01-19T09:33:50.655885",
     "exception": false,
     "start_time": "2023-01-19T09:33:13.676589",
     "status": "completed"
    },
    "tags": [],
    "vscode": {
     "languageId": "r"
    }
   },
   "outputs": [
    {
     "name": "stderr",
     "output_type": "stream",
     "text": [
      "\u001b[1mRows: \u001b[22m\u001b[34m531633\u001b[39m \u001b[1mColumns: \u001b[22m\u001b[34m13\u001b[39m\n",
      "\u001b[36m──\u001b[39m \u001b[1mColumn specification\u001b[22m \u001b[36m────────────────────────────────────────────────────────\u001b[39m\n",
      "\u001b[1mDelimiter:\u001b[22m \",\"\n",
      "\u001b[31mchr\u001b[39m  (7): ride_id, rideable_type, start_station_name, start_station_id, end_...\n",
      "\u001b[32mdbl\u001b[39m  (4): start_lat, start_lng, end_lat, end_lng\n",
      "\u001b[34mdttm\u001b[39m (2): started_at, ended_at\n",
      "\n",
      "\u001b[36mℹ\u001b[39m Use `spec()` to retrieve the full column specification for this data.\n",
      "\u001b[36mℹ\u001b[39m Specify the column types or set `show_col_types = FALSE` to quiet this message.\n",
      "\u001b[1mRows: \u001b[22m\u001b[34m729595\u001b[39m \u001b[1mColumns: \u001b[22m\u001b[34m13\u001b[39m\n",
      "\u001b[36m──\u001b[39m \u001b[1mColumn specification\u001b[22m \u001b[36m────────────────────────────────────────────────────────\u001b[39m\n",
      "\u001b[1mDelimiter:\u001b[22m \",\"\n",
      "\u001b[31mchr\u001b[39m  (7): ride_id, rideable_type, start_station_name, start_station_id, end_...\n",
      "\u001b[32mdbl\u001b[39m  (4): start_lat, start_lng, end_lat, end_lng\n",
      "\u001b[34mdttm\u001b[39m (2): started_at, ended_at\n",
      "\n",
      "\u001b[36mℹ\u001b[39m Use `spec()` to retrieve the full column specification for this data.\n",
      "\u001b[36mℹ\u001b[39m Specify the column types or set `show_col_types = FALSE` to quiet this message.\n",
      "\u001b[1mRows: \u001b[22m\u001b[34m822410\u001b[39m \u001b[1mColumns: \u001b[22m\u001b[34m13\u001b[39m\n",
      "\u001b[36m──\u001b[39m \u001b[1mColumn specification\u001b[22m \u001b[36m────────────────────────────────────────────────────────\u001b[39m\n",
      "\u001b[1mDelimiter:\u001b[22m \",\"\n",
      "\u001b[31mchr\u001b[39m  (7): ride_id, rideable_type, start_station_name, start_station_id, end_...\n",
      "\u001b[32mdbl\u001b[39m  (4): start_lat, start_lng, end_lat, end_lng\n",
      "\u001b[34mdttm\u001b[39m (2): started_at, ended_at\n",
      "\n",
      "\u001b[36mℹ\u001b[39m Use `spec()` to retrieve the full column specification for this data.\n",
      "\u001b[36mℹ\u001b[39m Specify the column types or set `show_col_types = FALSE` to quiet this message.\n",
      "\u001b[1mRows: \u001b[22m\u001b[34m804352\u001b[39m \u001b[1mColumns: \u001b[22m\u001b[34m13\u001b[39m\n",
      "\u001b[36m──\u001b[39m \u001b[1mColumn specification\u001b[22m \u001b[36m────────────────────────────────────────────────────────\u001b[39m\n",
      "\u001b[1mDelimiter:\u001b[22m \",\"\n",
      "\u001b[31mchr\u001b[39m  (7): ride_id, rideable_type, start_station_name, start_station_id, end_...\n",
      "\u001b[32mdbl\u001b[39m  (4): start_lat, start_lng, end_lat, end_lng\n",
      "\u001b[34mdttm\u001b[39m (2): started_at, ended_at\n",
      "\n",
      "\u001b[36mℹ\u001b[39m Use `spec()` to retrieve the full column specification for this data.\n",
      "\u001b[36mℹ\u001b[39m Specify the column types or set `show_col_types = FALSE` to quiet this message.\n",
      "\u001b[1mRows: \u001b[22m\u001b[34m756147\u001b[39m \u001b[1mColumns: \u001b[22m\u001b[34m13\u001b[39m\n",
      "\u001b[36m──\u001b[39m \u001b[1mColumn specification\u001b[22m \u001b[36m────────────────────────────────────────────────────────\u001b[39m\n",
      "\u001b[1mDelimiter:\u001b[22m \",\"\n",
      "\u001b[31mchr\u001b[39m  (7): ride_id, rideable_type, start_station_name, start_station_id, end_...\n",
      "\u001b[32mdbl\u001b[39m  (4): start_lat, start_lng, end_lat, end_lng\n",
      "\u001b[34mdttm\u001b[39m (2): started_at, ended_at\n",
      "\n",
      "\u001b[36mℹ\u001b[39m Use `spec()` to retrieve the full column specification for this data.\n",
      "\u001b[36mℹ\u001b[39m Specify the column types or set `show_col_types = FALSE` to quiet this message.\n",
      "\u001b[1mRows: \u001b[22m\u001b[34m631226\u001b[39m \u001b[1mColumns: \u001b[22m\u001b[34m13\u001b[39m\n",
      "\u001b[36m──\u001b[39m \u001b[1mColumn specification\u001b[22m \u001b[36m────────────────────────────────────────────────────────\u001b[39m\n",
      "\u001b[1mDelimiter:\u001b[22m \",\"\n",
      "\u001b[31mchr\u001b[39m  (7): ride_id, rideable_type, start_station_name, start_station_id, end_...\n",
      "\u001b[32mdbl\u001b[39m  (4): start_lat, start_lng, end_lat, end_lng\n",
      "\u001b[34mdttm\u001b[39m (2): started_at, ended_at\n",
      "\n",
      "\u001b[36mℹ\u001b[39m Use `spec()` to retrieve the full column specification for this data.\n",
      "\u001b[36mℹ\u001b[39m Specify the column types or set `show_col_types = FALSE` to quiet this message.\n",
      "\u001b[1mRows: \u001b[22m\u001b[34m359978\u001b[39m \u001b[1mColumns: \u001b[22m\u001b[34m13\u001b[39m\n",
      "\u001b[36m──\u001b[39m \u001b[1mColumn specification\u001b[22m \u001b[36m────────────────────────────────────────────────────────\u001b[39m\n",
      "\u001b[1mDelimiter:\u001b[22m \",\"\n",
      "\u001b[31mchr\u001b[39m  (7): ride_id, rideable_type, start_station_name, start_station_id, end_...\n",
      "\u001b[32mdbl\u001b[39m  (4): start_lat, start_lng, end_lat, end_lng\n",
      "\u001b[34mdttm\u001b[39m (2): started_at, ended_at\n",
      "\n",
      "\u001b[36mℹ\u001b[39m Use `spec()` to retrieve the full column specification for this data.\n",
      "\u001b[36mℹ\u001b[39m Specify the column types or set `show_col_types = FALSE` to quiet this message.\n",
      "\u001b[1mRows: \u001b[22m\u001b[34m247540\u001b[39m \u001b[1mColumns: \u001b[22m\u001b[34m13\u001b[39m\n",
      "\u001b[36m──\u001b[39m \u001b[1mColumn specification\u001b[22m \u001b[36m────────────────────────────────────────────────────────\u001b[39m\n",
      "\u001b[1mDelimiter:\u001b[22m \",\"\n",
      "\u001b[31mchr\u001b[39m  (7): ride_id, rideable_type, start_station_name, start_station_id, end_...\n",
      "\u001b[32mdbl\u001b[39m  (4): start_lat, start_lng, end_lat, end_lng\n",
      "\u001b[34mdttm\u001b[39m (2): started_at, ended_at\n",
      "\n",
      "\u001b[36mℹ\u001b[39m Use `spec()` to retrieve the full column specification for this data.\n",
      "\u001b[36mℹ\u001b[39m Specify the column types or set `show_col_types = FALSE` to quiet this message.\n",
      "\u001b[1mRows: \u001b[22m\u001b[34m103770\u001b[39m \u001b[1mColumns: \u001b[22m\u001b[34m13\u001b[39m\n",
      "\u001b[36m──\u001b[39m \u001b[1mColumn specification\u001b[22m \u001b[36m────────────────────────────────────────────────────────\u001b[39m\n",
      "\u001b[1mDelimiter:\u001b[22m \",\"\n",
      "\u001b[31mchr\u001b[39m  (7): ride_id, rideable_type, start_station_name, start_station_id, end_...\n",
      "\u001b[32mdbl\u001b[39m  (4): start_lat, start_lng, end_lat, end_lng\n",
      "\u001b[34mdttm\u001b[39m (2): started_at, ended_at\n",
      "\n",
      "\u001b[36mℹ\u001b[39m Use `spec()` to retrieve the full column specification for this data.\n",
      "\u001b[36mℹ\u001b[39m Specify the column types or set `show_col_types = FALSE` to quiet this message.\n",
      "\u001b[1mRows: \u001b[22m\u001b[34m115609\u001b[39m \u001b[1mColumns: \u001b[22m\u001b[34m13\u001b[39m\n",
      "\u001b[36m──\u001b[39m \u001b[1mColumn specification\u001b[22m \u001b[36m────────────────────────────────────────────────────────\u001b[39m\n",
      "\u001b[1mDelimiter:\u001b[22m \",\"\n",
      "\u001b[31mchr\u001b[39m  (7): ride_id, rideable_type, start_station_name, start_station_id, end_...\n",
      "\u001b[32mdbl\u001b[39m  (4): start_lat, start_lng, end_lat, end_lng\n",
      "\u001b[34mdttm\u001b[39m (2): started_at, ended_at\n",
      "\n",
      "\u001b[36mℹ\u001b[39m Use `spec()` to retrieve the full column specification for this data.\n",
      "\u001b[36mℹ\u001b[39m Specify the column types or set `show_col_types = FALSE` to quiet this message.\n",
      "\u001b[1mRows: \u001b[22m\u001b[34m284042\u001b[39m \u001b[1mColumns: \u001b[22m\u001b[34m13\u001b[39m\n",
      "\u001b[36m──\u001b[39m \u001b[1mColumn specification\u001b[22m \u001b[36m────────────────────────────────────────────────────────\u001b[39m\n",
      "\u001b[1mDelimiter:\u001b[22m \",\"\n",
      "\u001b[31mchr\u001b[39m  (7): ride_id, rideable_type, start_station_name, start_station_id, end_...\n",
      "\u001b[32mdbl\u001b[39m  (4): start_lat, start_lng, end_lat, end_lng\n",
      "\u001b[34mdttm\u001b[39m (2): started_at, ended_at\n",
      "\n",
      "\u001b[36mℹ\u001b[39m Use `spec()` to retrieve the full column specification for this data.\n",
      "\u001b[36mℹ\u001b[39m Specify the column types or set `show_col_types = FALSE` to quiet this message.\n",
      "\u001b[1mRows: \u001b[22m\u001b[34m371249\u001b[39m \u001b[1mColumns: \u001b[22m\u001b[34m13\u001b[39m\n",
      "\u001b[36m──\u001b[39m \u001b[1mColumn specification\u001b[22m \u001b[36m────────────────────────────────────────────────────────\u001b[39m\n",
      "\u001b[1mDelimiter:\u001b[22m \",\"\n",
      "\u001b[31mchr\u001b[39m  (7): ride_id, rideable_type, start_station_name, start_station_id, end_...\n",
      "\u001b[32mdbl\u001b[39m  (4): start_lat, start_lng, end_lat, end_lng\n",
      "\u001b[34mdttm\u001b[39m (2): started_at, ended_at\n",
      "\n",
      "\u001b[36mℹ\u001b[39m Use `spec()` to retrieve the full column specification for this data.\n",
      "\u001b[36mℹ\u001b[39m Specify the column types or set `show_col_types = FALSE` to quiet this message.\n"
     ]
    }
   ],
   "source": [
    "# Importing datasets\n",
    "may_21 <- read_csv(\"../input/cyclistic-capstone/202105-divvy-tripdata.csv\")\n",
    "jun_21 <- read_csv(\"../input/cyclistic-capstone/202106-divvy-tripdata.csv\")\n",
    "jul_21 <- read_csv(\"../input/cyclistic-capstone/202107-divvy-tripdata.csv\")\n",
    "aug_21 <- read_csv(\"../input/cyclistic-capstone/202108-divvy-tripdata.csv\")\n",
    "sep_21 <- read_csv(\"../input/cyclistic-capstone/202109-divvy-tripdata.csv\")\n",
    "oct_21 <- read_csv(\"../input/cyclistic-capstone/202110-divvy-tripdata.csv\")\n",
    "nov_21 <- read_csv(\"../input/cyclistic-capstone/202111-divvy-tripdata.csv\")\n",
    "dec_21 <- read_csv(\"../input/cyclistic-capstone/202112-divvy-tripdata.csv\")\n",
    "jan_22 <- read_csv(\"../input/cyclistic-capstone/202201-divvy-tripdata.csv\")\n",
    "feb_22 <- read_csv(\"../input/cyclistic-capstone/202202-divvy-tripdata.csv\")\n",
    "mar_22 <- read_csv(\"../input/cyclistic-capstone/202203-divvy-tripdata.csv\")\n",
    "apr_22 <- read_csv(\"../input/cyclistic-capstone/202204-divvy-tripdata.csv\")"
   ]
  },
  {
   "cell_type": "code",
   "execution_count": 4,
   "id": "8d832b7b",
   "metadata": {
    "execution": {
     "iopub.execute_input": "2023-01-19T09:33:50.694880Z",
     "iopub.status.busy": "2023-01-19T09:33:50.691051Z",
     "iopub.status.idle": "2023-01-19T09:34:14.093906Z",
     "shell.execute_reply": "2023-01-19T09:34:14.091730Z"
    },
    "papermill": {
     "duration": 23.426332,
     "end_time": "2023-01-19T09:34:14.097525",
     "exception": false,
     "start_time": "2023-01-19T09:33:50.671193",
     "status": "completed"
    },
    "tags": [],
    "vscode": {
     "languageId": "r"
    }
   },
   "outputs": [
    {
     "data": {
      "text/html": [
       "<table class=\"dataframe\">\n",
       "<caption>A tibble: 6 × 13</caption>\n",
       "<thead>\n",
       "\t<tr><th scope=col>ride_id</th><th scope=col>rideable_type</th><th scope=col>started_at</th><th scope=col>ended_at</th><th scope=col>start_station_name</th><th scope=col>start_station_id</th><th scope=col>end_station_name</th><th scope=col>end_station_id</th><th scope=col>start_lat</th><th scope=col>start_lng</th><th scope=col>end_lat</th><th scope=col>end_lng</th><th scope=col>member_casual</th></tr>\n",
       "\t<tr><th scope=col>&lt;chr&gt;</th><th scope=col>&lt;chr&gt;</th><th scope=col>&lt;dttm&gt;</th><th scope=col>&lt;dttm&gt;</th><th scope=col>&lt;chr&gt;</th><th scope=col>&lt;chr&gt;</th><th scope=col>&lt;chr&gt;</th><th scope=col>&lt;chr&gt;</th><th scope=col>&lt;dbl&gt;</th><th scope=col>&lt;dbl&gt;</th><th scope=col>&lt;dbl&gt;</th><th scope=col>&lt;dbl&gt;</th><th scope=col>&lt;chr&gt;</th></tr>\n",
       "</thead>\n",
       "<tbody>\n",
       "\t<tr><td>C809ED75D6160B2A</td><td>electric_bike</td><td>2021-05-30 11:58:15</td><td>2021-05-30 12:10:39</td><td>NA</td><td>NA</td><td>NA</td><td>NA</td><td>41.90</td><td>-87.63</td><td>41.89</td><td>-87.61</td><td>casual</td></tr>\n",
       "\t<tr><td>DD59FDCE0ACACAF3</td><td>electric_bike</td><td>2021-05-30 11:29:14</td><td>2021-05-30 12:14:09</td><td>NA</td><td>NA</td><td>NA</td><td>NA</td><td>41.88</td><td>-87.62</td><td>41.79</td><td>-87.58</td><td>casual</td></tr>\n",
       "\t<tr><td>0AB83CB88C43EFC2</td><td>electric_bike</td><td>2021-05-30 14:24:01</td><td>2021-05-30 14:25:13</td><td>NA</td><td>NA</td><td>NA</td><td>NA</td><td>41.92</td><td>-87.70</td><td>41.92</td><td>-87.70</td><td>casual</td></tr>\n",
       "\t<tr><td>7881AC6D39110C60</td><td>electric_bike</td><td>2021-05-30 14:25:51</td><td>2021-05-30 14:41:04</td><td>NA</td><td>NA</td><td>NA</td><td>NA</td><td>41.92</td><td>-87.70</td><td>41.94</td><td>-87.69</td><td>casual</td></tr>\n",
       "\t<tr><td>853FA701B4582BAF</td><td>electric_bike</td><td>2021-05-30 18:15:39</td><td>2021-05-30 18:22:32</td><td>NA</td><td>NA</td><td>NA</td><td>NA</td><td>41.94</td><td>-87.69</td><td>41.94</td><td>-87.70</td><td>casual</td></tr>\n",
       "\t<tr><td>F5E63DFD96B2A737</td><td>electric_bike</td><td>2021-05-30 11:33:41</td><td>2021-05-30 11:57:17</td><td>NA</td><td>NA</td><td>NA</td><td>NA</td><td>41.88</td><td>-87.63</td><td>41.89</td><td>-87.62</td><td>casual</td></tr>\n",
       "</tbody>\n",
       "</table>\n"
      ],
      "text/latex": [
       "A tibble: 6 × 13\n",
       "\\begin{tabular}{lllllllllllll}\n",
       " ride\\_id & rideable\\_type & started\\_at & ended\\_at & start\\_station\\_name & start\\_station\\_id & end\\_station\\_name & end\\_station\\_id & start\\_lat & start\\_lng & end\\_lat & end\\_lng & member\\_casual\\\\\n",
       " <chr> & <chr> & <dttm> & <dttm> & <chr> & <chr> & <chr> & <chr> & <dbl> & <dbl> & <dbl> & <dbl> & <chr>\\\\\n",
       "\\hline\n",
       "\t C809ED75D6160B2A & electric\\_bike & 2021-05-30 11:58:15 & 2021-05-30 12:10:39 & NA & NA & NA & NA & 41.90 & -87.63 & 41.89 & -87.61 & casual\\\\\n",
       "\t DD59FDCE0ACACAF3 & electric\\_bike & 2021-05-30 11:29:14 & 2021-05-30 12:14:09 & NA & NA & NA & NA & 41.88 & -87.62 & 41.79 & -87.58 & casual\\\\\n",
       "\t 0AB83CB88C43EFC2 & electric\\_bike & 2021-05-30 14:24:01 & 2021-05-30 14:25:13 & NA & NA & NA & NA & 41.92 & -87.70 & 41.92 & -87.70 & casual\\\\\n",
       "\t 7881AC6D39110C60 & electric\\_bike & 2021-05-30 14:25:51 & 2021-05-30 14:41:04 & NA & NA & NA & NA & 41.92 & -87.70 & 41.94 & -87.69 & casual\\\\\n",
       "\t 853FA701B4582BAF & electric\\_bike & 2021-05-30 18:15:39 & 2021-05-30 18:22:32 & NA & NA & NA & NA & 41.94 & -87.69 & 41.94 & -87.70 & casual\\\\\n",
       "\t F5E63DFD96B2A737 & electric\\_bike & 2021-05-30 11:33:41 & 2021-05-30 11:57:17 & NA & NA & NA & NA & 41.88 & -87.63 & 41.89 & -87.62 & casual\\\\\n",
       "\\end{tabular}\n"
      ],
      "text/markdown": [
       "\n",
       "A tibble: 6 × 13\n",
       "\n",
       "| ride_id &lt;chr&gt; | rideable_type &lt;chr&gt; | started_at &lt;dttm&gt; | ended_at &lt;dttm&gt; | start_station_name &lt;chr&gt; | start_station_id &lt;chr&gt; | end_station_name &lt;chr&gt; | end_station_id &lt;chr&gt; | start_lat &lt;dbl&gt; | start_lng &lt;dbl&gt; | end_lat &lt;dbl&gt; | end_lng &lt;dbl&gt; | member_casual &lt;chr&gt; |\n",
       "|---|---|---|---|---|---|---|---|---|---|---|---|---|\n",
       "| C809ED75D6160B2A | electric_bike | 2021-05-30 11:58:15 | 2021-05-30 12:10:39 | NA | NA | NA | NA | 41.90 | -87.63 | 41.89 | -87.61 | casual |\n",
       "| DD59FDCE0ACACAF3 | electric_bike | 2021-05-30 11:29:14 | 2021-05-30 12:14:09 | NA | NA | NA | NA | 41.88 | -87.62 | 41.79 | -87.58 | casual |\n",
       "| 0AB83CB88C43EFC2 | electric_bike | 2021-05-30 14:24:01 | 2021-05-30 14:25:13 | NA | NA | NA | NA | 41.92 | -87.70 | 41.92 | -87.70 | casual |\n",
       "| 7881AC6D39110C60 | electric_bike | 2021-05-30 14:25:51 | 2021-05-30 14:41:04 | NA | NA | NA | NA | 41.92 | -87.70 | 41.94 | -87.69 | casual |\n",
       "| 853FA701B4582BAF | electric_bike | 2021-05-30 18:15:39 | 2021-05-30 18:22:32 | NA | NA | NA | NA | 41.94 | -87.69 | 41.94 | -87.70 | casual |\n",
       "| F5E63DFD96B2A737 | electric_bike | 2021-05-30 11:33:41 | 2021-05-30 11:57:17 | NA | NA | NA | NA | 41.88 | -87.63 | 41.89 | -87.62 | casual |\n",
       "\n"
      ],
      "text/plain": [
       "  ride_id          rideable_type started_at          ended_at           \n",
       "1 C809ED75D6160B2A electric_bike 2021-05-30 11:58:15 2021-05-30 12:10:39\n",
       "2 DD59FDCE0ACACAF3 electric_bike 2021-05-30 11:29:14 2021-05-30 12:14:09\n",
       "3 0AB83CB88C43EFC2 electric_bike 2021-05-30 14:24:01 2021-05-30 14:25:13\n",
       "4 7881AC6D39110C60 electric_bike 2021-05-30 14:25:51 2021-05-30 14:41:04\n",
       "5 853FA701B4582BAF electric_bike 2021-05-30 18:15:39 2021-05-30 18:22:32\n",
       "6 F5E63DFD96B2A737 electric_bike 2021-05-30 11:33:41 2021-05-30 11:57:17\n",
       "  start_station_name start_station_id end_station_name end_station_id start_lat\n",
       "1 NA                 NA               NA               NA             41.90    \n",
       "2 NA                 NA               NA               NA             41.88    \n",
       "3 NA                 NA               NA               NA             41.92    \n",
       "4 NA                 NA               NA               NA             41.92    \n",
       "5 NA                 NA               NA               NA             41.94    \n",
       "6 NA                 NA               NA               NA             41.88    \n",
       "  start_lng end_lat end_lng member_casual\n",
       "1 -87.63    41.89   -87.61  casual       \n",
       "2 -87.62    41.79   -87.58  casual       \n",
       "3 -87.70    41.92   -87.70  casual       \n",
       "4 -87.70    41.94   -87.69  casual       \n",
       "5 -87.69    41.94   -87.70  casual       \n",
       "6 -87.63    41.89   -87.62  casual       "
      ]
     },
     "metadata": {},
     "output_type": "display_data"
    }
   ],
   "source": [
    "# Merging the datasets\n",
    "all_trips <- rbind(may_21, jun_21, jul_21, aug_21, sep_21, oct_21, nov_21,\n",
    "                    dec_21, jan_22, feb_22, mar_22, apr_22)\n",
    "\n",
    "head(all_trips)"
   ]
  },
  {
   "cell_type": "markdown",
   "id": "ebbd2ee2",
   "metadata": {
    "papermill": {
     "duration": 0.013636,
     "end_time": "2023-01-19T09:34:14.124362",
     "exception": false,
     "start_time": "2023-01-19T09:34:14.110726",
     "status": "completed"
    },
    "tags": []
   },
   "source": [
    "**1.  Null values were observed for start station name, start station ID, end station name and end station IDs, end_lat, end-lang.**"
   ]
  },
  {
   "cell_type": "code",
   "execution_count": 5,
   "id": "d16819f4",
   "metadata": {
    "execution": {
     "iopub.execute_input": "2023-01-19T09:34:14.156044Z",
     "iopub.status.busy": "2023-01-19T09:34:14.154156Z",
     "shell.execute_reply": "2023-01-19T09:35:04.772655Z"
    },
    "papermill": {
     "duration": 50.638123,
     "end_time": "2023-01-19T09:35:04.776463",
     "exception": false,
     "start_time": "2023-01-19T09:34:14.138340",
     "status": "completed"
    },
    "tags": [],
    "vscode": {
     "languageId": "r"
    }
   },
   "outputs": [],
   "source": [
    "skim_without_charts(all_trips)"
   ]
  },
  {
   "cell_type": "code",
   "execution_count": null,
   "id": "43795432",
   "metadata": {
    "execution": {
     "iopub.execute_input": "2023-01-19T09:18:30.846320Z",
     "iopub.status.busy": "2023-01-19T09:18:30.844662Z",
     "iopub.status.idle": "2023-01-19T09:18:33.055631Z"
    },
    "papermill": {
     "duration": null,
     "end_time": null,
     "exception": null,
     "start_time": null,
     "status": "completed"
    },
    "tags": [],
    "vscode": {
     "languageId": "r"
    }
   },
   "outputs": [],
   "source": [
    "# remove null values\n",
    "all_trips <- drop_na(all_trips)\n",
    "# skim_without_charts(all_trips)"
   ]
  },
  {
   "cell_type": "markdown",
   "id": "0d259663",
   "metadata": {
    "papermill": {
     "duration": null,
     "end_time": null,
     "exception": null,
     "start_time": null,
     "status": "completed"
    },
    "tags": []
   },
   "source": [
    "**2. Rename columns for better readability** "
   ]
  },
  {
   "cell_type": "code",
   "execution_count": null,
   "id": "2e337245",
   "metadata": {
    "execution": {
     "iopub.execute_input": "2023-01-19T09:18:33.060485Z",
     "iopub.status.busy": "2023-01-19T09:18:33.058210Z",
     "iopub.status.idle": "2023-01-19T09:18:33.095458Z"
    },
    "papermill": {
     "duration": null,
     "end_time": null,
     "exception": null,
     "start_time": null,
     "status": "completed"
    },
    "tags": [],
    "vscode": {
     "languageId": "r"
    }
   },
   "outputs": [],
   "source": [
    "all_trips <- all_trips %>%\n",
    "    rename(ride_type = rideable_type, \n",
    "           start_time = started_at,\n",
    "           end_time = ended_at,\n",
    "           customer_type = member_casual)\n",
    "glimpse(all_trips)"
   ]
  },
  {
   "cell_type": "markdown",
   "id": "0eab2403",
   "metadata": {
    "papermill": {
     "duration": null,
     "end_time": null,
     "exception": null,
     "start_time": null,
     "status": "completed"
    },
    "tags": []
   },
   "source": [
    "<font size=\"5\">**3. Process:** - Clean the Data </font>\n",
    "\n",
    "\n",
    "### Clean and prepare the data for analysis\n",
    "\n"
   ]
  },
  {
   "cell_type": "markdown",
   "id": "32e8cf29",
   "metadata": {
    "papermill": {
     "duration": null,
     "end_time": null,
     "exception": null,
     "start_time": null,
     "status": "completed"
    },
    "tags": []
   },
   "source": [
    "**1. Add new columns that can be used for aggregate functions**"
   ]
  },
  {
   "cell_type": "code",
   "execution_count": null,
   "id": "bb165cad",
   "metadata": {
    "execution": {
     "iopub.execute_input": "2023-01-19T09:18:33.100890Z",
     "iopub.status.busy": "2023-01-19T09:18:33.099163Z",
     "iopub.status.idle": "2023-01-19T09:18:39.603526Z"
    },
    "papermill": {
     "duration": null,
     "end_time": null,
     "exception": null,
     "start_time": null,
     "status": "completed"
    },
    "tags": [],
    "vscode": {
     "languageId": "r"
    }
   },
   "outputs": [],
   "source": [
    "#column for month when the trip started\n",
    "all_trips$month <- format(as.Date(all_trips$start_time),'%b')\n",
    "\n",
    "#column for day of the week the trip started\n",
    "all_trips$day_of_the_week <- format(as.Date(all_trips$start_time),'%a')\n",
    "\n",
    "# Creating hour column\n",
    "all_trips <- all_trips %>%\n",
    "    mutate(hour = strftime(all_trips$end_time, \"%H\"))"
   ]
  },
  {
   "cell_type": "markdown",
   "id": "7ac5e0ee",
   "metadata": {
    "papermill": {
     "duration": null,
     "end_time": null,
     "exception": null,
     "start_time": null,
     "status": "completed"
    },
    "tags": []
   },
   "source": [
    "**calculate some important informations and columns for analysis**\n",
    "\n",
    "**2. Calculating Trip Duration and Ride Distance**"
   ]
  },
  {
   "cell_type": "code",
   "execution_count": null,
   "id": "545b6452",
   "metadata": {
    "execution": {
     "iopub.execute_input": "2023-01-19T09:18:39.607404Z",
     "iopub.status.busy": "2023-01-19T09:18:39.605927Z",
     "iopub.status.idle": "2023-01-19T09:18:48.263045Z"
    },
    "papermill": {
     "duration": null,
     "end_time": null,
     "exception": null,
     "start_time": null,
     "status": "completed"
    },
    "tags": [],
    "vscode": {
     "languageId": "r"
    }
   },
   "outputs": [],
   "source": [
    "all_trips <- mutate(all_trips,trip_duration = difftime(all_trips$end_time,all_trips$start_time, units = \"mins\"))\n",
    "head(all_trips)\n",
    "\n",
    "all_trips$ride_distance <- distGeo(matrix(c(all_trips$start_lng, all_trips$start_lat), ncol = 2),\n",
    "                              matrix(c(all_trips$end_lng, all_trips$end_lat), ncol = 2))\n",
    "\n",
    "all_trips$ride_distance <- all_trips$ride_distance/1000"
   ]
  },
  {
   "cell_type": "markdown",
   "id": "830291e2",
   "metadata": {
    "papermill": {
     "duration": null,
     "end_time": null,
     "exception": null,
     "start_time": null,
     "status": "completed"
    },
    "tags": []
   },
   "source": [
    "**4. Check if there is negative trip duration and ride distance.\n",
    "     There are also some trips where bikes were taken out for checking and put back into the station and took a time period of less than a minute. If there is data like this, \n",
    "we need to remove that**"
   ]
  },
  {
   "cell_type": "code",
   "execution_count": null,
   "id": "7559d233",
   "metadata": {
    "execution": {
     "iopub.execute_input": "2023-01-19T09:18:48.268157Z",
     "iopub.status.busy": "2023-01-19T09:18:48.266407Z",
     "iopub.status.idle": "2023-01-19T09:18:48.323124Z"
    },
    "papermill": {
     "duration": null,
     "end_time": null,
     "exception": null,
     "start_time": null,
     "status": "completed"
    },
    "tags": [],
    "vscode": {
     "languageId": "r"
    }
   },
   "outputs": [],
   "source": [
    "min(all_trips$trip_duration)"
   ]
  },
  {
   "cell_type": "markdown",
   "id": "e1062caa",
   "metadata": {
    "papermill": {
     "duration": null,
     "end_time": null,
     "exception": null,
     "start_time": null,
     "status": "completed"
    },
    "tags": []
   },
   "source": [
    "As we can see the minimum time is -55.9 mins shows that there is negative data present so we need to get rid of that."
   ]
  },
  {
   "cell_type": "code",
   "execution_count": null,
   "id": "20c7916e",
   "metadata": {
    "execution": {
     "iopub.execute_input": "2023-01-19T09:18:48.327157Z",
     "iopub.status.busy": "2023-01-19T09:18:48.325628Z",
     "iopub.status.idle": "2023-01-19T09:18:49.898699Z"
    },
    "papermill": {
     "duration": null,
     "end_time": null,
     "exception": null,
     "start_time": null,
     "status": "completed"
    },
    "tags": [],
    "vscode": {
     "languageId": "r"
    }
   },
   "outputs": [],
   "source": [
    "all_trips <- subset(all_trips,trip_duration > 0)\n",
    "min(all_trips$trip_duration)"
   ]
  },
  {
   "cell_type": "code",
   "execution_count": null,
   "id": "ace33e8a",
   "metadata": {
    "execution": {
     "iopub.execute_input": "2023-01-19T09:18:49.902886Z",
     "iopub.status.busy": "2023-01-19T09:18:49.901324Z",
     "iopub.status.idle": "2023-01-19T09:18:54.819745Z"
    },
    "papermill": {
     "duration": null,
     "end_time": null,
     "exception": null,
     "start_time": null,
     "status": "completed"
    },
    "tags": [],
    "vscode": {
     "languageId": "r"
    }
   },
   "outputs": [],
   "source": [
    "all_trips <- subset(all_trips,!(start_station_name == end_station_name & trip_duration <= 1))\n",
    "all_trips <- subset(all_trips,trip_duration >= 1)\n",
    "min(all_trips$trip_duration)"
   ]
  },
  {
   "cell_type": "markdown",
   "id": "65e3e3dc",
   "metadata": {
    "papermill": {
     "duration": null,
     "end_time": null,
     "exception": null,
     "start_time": null,
     "status": "completed"
    },
    "tags": []
   },
   "source": [
    "**5. remove the trips that were part of quality tests by the company**"
   ]
  },
  {
   "cell_type": "code",
   "execution_count": null,
   "id": "44377241",
   "metadata": {
    "execution": {
     "iopub.execute_input": "2023-01-19T09:18:54.824631Z",
     "iopub.status.busy": "2023-01-19T09:18:54.822868Z",
     "iopub.status.idle": "2023-01-19T09:19:03.350576Z"
    },
    "papermill": {
     "duration": null,
     "end_time": null,
     "exception": null,
     "start_time": null,
     "status": "completed"
    },
    "tags": [],
    "vscode": {
     "languageId": "r"
    }
   },
   "outputs": [],
   "source": [
    "#checking for testrides that were made by company for quality checks\n",
    "nrow(subset(all_trips, start_station_name %like% \"TEST\"))\n",
    "nrow(subset(all_trips, start_station_name %like% \"test\"))\n",
    "nrow(subset(all_trips, start_station_name %like% \"Test\"))"
   ]
  },
  {
   "cell_type": "code",
   "execution_count": null,
   "id": "0b6b873c",
   "metadata": {
    "execution": {
     "iopub.execute_input": "2023-01-19T09:19:03.356009Z",
     "iopub.status.busy": "2023-01-19T09:19:03.354309Z",
     "iopub.status.idle": "2023-01-19T09:19:09.134733Z"
    },
    "papermill": {
     "duration": null,
     "end_time": null,
     "exception": null,
     "start_time": null,
     "status": "completed"
    },
    "tags": [],
    "vscode": {
     "languageId": "r"
    }
   },
   "outputs": [],
   "source": [
    "#remove test rides\n",
    "all_trips<- all_trips[!(all_trips$start_station_name %like% \"test\"),]"
   ]
  },
  {
   "cell_type": "markdown",
   "id": "8a574fad",
   "metadata": {
    "papermill": {
     "duration": null,
     "end_time": null,
     "exception": null,
     "start_time": null,
     "status": "completed"
    },
    "tags": []
   },
   "source": [
    "**6.The geographic data show the precise slot in each station of where users have take and return their bike, however, in order to show the usage of bike stations in the visualization, I unify users locations in the same station with median value**"
   ]
  },
  {
   "cell_type": "code",
   "execution_count": null,
   "id": "3a5fa793",
   "metadata": {
    "execution": {
     "iopub.execute_input": "2023-01-19T09:19:09.138898Z",
     "iopub.status.busy": "2023-01-19T09:19:09.137355Z",
     "iopub.status.idle": "2023-01-19T09:19:10.071478Z"
    },
    "papermill": {
     "duration": null,
     "end_time": null,
     "exception": null,
     "start_time": null,
     "status": "completed"
    },
    "tags": [],
    "vscode": {
     "languageId": "r"
    }
   },
   "outputs": [],
   "source": [
    "start_station_loc <- all_trips %>% \n",
    "    group_by(start_station_name) %>%\n",
    "    summarise(start_lat_n = median(start_lat),start_lng_n = median(start_lng))\n",
    "\n",
    "end_station_loc <- all_trips %>% \n",
    "    group_by(end_station_name) %>%\n",
    "    summarise(end_lat_n = median(end_lat),end_lng_n = median(end_lng))"
   ]
  },
  {
   "cell_type": "code",
   "execution_count": null,
   "id": "f02b5dd5",
   "metadata": {
    "execution": {
     "iopub.execute_input": "2023-01-19T09:19:10.075658Z",
     "iopub.status.busy": "2023-01-19T09:19:10.074108Z",
     "iopub.status.idle": "2023-01-19T09:21:47.348838Z"
    },
    "papermill": {
     "duration": null,
     "end_time": null,
     "exception": null,
     "start_time": null,
     "status": "completed"
    },
    "tags": [],
    "vscode": {
     "languageId": "r"
    }
   },
   "outputs": [],
   "source": [
    "df <- merge(x = all_trips, y = start_station_loc,by='start_station_name')\n",
    "all_trips <- merge(x = df, y = end_station_loc,by='end_station_name')"
   ]
  },
  {
   "cell_type": "markdown",
   "id": "ca551d9d",
   "metadata": {
    "papermill": {
     "duration": null,
     "end_time": null,
     "exception": null,
     "start_time": null,
     "status": "completed"
    },
    "tags": []
   },
   "source": [
    "**7. make sure that customer_type column has only two distinct values.**"
   ]
  },
  {
   "cell_type": "code",
   "execution_count": null,
   "id": "739cc405",
   "metadata": {
    "execution": {
     "iopub.execute_input": "2023-01-19T09:21:47.353166Z",
     "iopub.status.busy": "2023-01-19T09:21:47.351678Z",
     "iopub.status.idle": "2023-01-19T09:21:54.731410Z"
    },
    "papermill": {
     "duration": null,
     "end_time": null,
     "exception": null,
     "start_time": null,
     "status": "completed"
    },
    "tags": [],
    "vscode": {
     "languageId": "r"
    }
   },
   "outputs": [],
   "source": [
    "# checking count of distinct values\n",
    "table(all_trips$customer_type)\n",
    "#aggregating total trip duration by customer type\n",
    "setNames(aggregate(trip_duration ~ customer_type, all_trips, sum), c(\"customer_type\", \"total_trip_duration(mins)\"))"
   ]
  },
  {
   "cell_type": "code",
   "execution_count": null,
   "id": "885878b6",
   "metadata": {
    "execution": {
     "iopub.execute_input": "2023-01-19T09:21:54.737798Z",
     "iopub.status.busy": "2023-01-19T09:21:54.735945Z",
     "iopub.status.idle": "2023-01-19T09:21:54.780584Z"
    },
    "papermill": {
     "duration": null,
     "end_time": null,
     "exception": null,
     "start_time": null,
     "status": "completed"
    },
    "tags": [],
    "vscode": {
     "languageId": "r"
    }
   },
   "outputs": [],
   "source": [
    "head(all_trips)"
   ]
  },
  {
   "cell_type": "markdown",
   "id": "6786a8ff",
   "metadata": {
    "papermill": {
     "duration": null,
     "end_time": null,
     "exception": null,
     "start_time": null,
     "status": "completed"
    },
    "tags": []
   },
   "source": [
    "**8. Remove unnecessary columns.**"
   ]
  },
  {
   "cell_type": "code",
   "execution_count": null,
   "id": "74219055",
   "metadata": {
    "execution": {
     "iopub.execute_input": "2023-01-19T09:21:54.785801Z",
     "iopub.status.busy": "2023-01-19T09:21:54.784074Z",
     "iopub.status.idle": "2023-01-19T09:21:54.845722Z"
    },
    "papermill": {
     "duration": null,
     "end_time": null,
     "exception": null,
     "start_time": null,
     "status": "completed"
    },
    "tags": [],
    "vscode": {
     "languageId": "r"
    }
   },
   "outputs": [],
   "source": [
    "all_trips <- select(all_trips,-start_time,-end_time,-start_station_id,-end_station_id, -start_lat,-start_lng,-end_lat,-end_lng)\n",
    "start_lat\n",
    "head(all_trips)"
   ]
  },
  {
   "cell_type": "markdown",
   "id": "c548f446",
   "metadata": {
    "papermill": {
     "duration": null,
     "end_time": null,
     "exception": null,
     "start_time": null,
     "status": "completed"
    },
    "tags": []
   },
   "source": [
    "**8. Reorder the columns**"
   ]
  },
  {
   "cell_type": "code",
   "execution_count": null,
   "id": "5c806e19",
   "metadata": {
    "execution": {
     "iopub.execute_input": "2023-01-19T09:28:10.185415Z",
     "iopub.status.busy": "2023-01-19T09:28:10.183649Z",
     "iopub.status.idle": "2023-01-19T09:28:10.198883Z"
    },
    "papermill": {
     "duration": null,
     "end_time": null,
     "exception": null,
     "start_time": null,
     "status": "completed"
    },
    "tags": [],
    "vscode": {
     "languageId": "r"
    }
   },
   "outputs": [],
   "source": [
    "all_trips <- all_trips[, c(3, 4, 5, 2, 1, 11, 12, 13, 14, 6, 7, 8, 9, 10 )]"
   ]
  },
  {
   "cell_type": "code",
   "execution_count": null,
   "id": "12edc7fb",
   "metadata": {
    "execution": {
     "iopub.execute_input": "2023-01-19T09:28:21.017605Z",
     "iopub.status.busy": "2023-01-19T09:28:21.012373Z",
     "iopub.status.idle": "2023-01-19T09:28:21.071664Z"
    },
    "papermill": {
     "duration": null,
     "end_time": null,
     "exception": null,
     "start_time": null,
     "status": "completed"
    },
    "tags": [],
    "vscode": {
     "languageId": "r"
    }
   },
   "outputs": [],
   "source": [
    "head(all_trips)"
   ]
  },
  {
   "cell_type": "markdown",
   "id": "ddb162c6",
   "metadata": {
    "papermill": {
     "duration": null,
     "end_time": null,
     "exception": null,
     "start_time": null,
     "status": "completed"
    },
    "tags": []
   },
   "source": [
    "**9. output the data.**"
   ]
  },
  {
   "cell_type": "code",
   "execution_count": null,
   "id": "569a600e",
   "metadata": {
    "execution": {
     "iopub.execute_input": "2023-01-19T09:28:43.116979Z",
     "iopub.status.busy": "2023-01-19T09:28:43.115221Z",
     "iopub.status.idle": "2023-01-19T09:29:42.616570Z"
    },
    "papermill": {
     "duration": null,
     "end_time": null,
     "exception": null,
     "start_time": null,
     "status": "completed"
    },
    "tags": [],
    "vscode": {
     "languageId": "r"
    }
   },
   "outputs": [],
   "source": [
    "# Write csv of trips\n",
    "write.table(all_trips, file='./tripsdata.csv',sep=\",\",row.names=F, na = \"NA\")"
   ]
  },
  {
   "cell_type": "markdown",
   "id": "f87a2166",
   "metadata": {
    "papermill": {
     "duration": null,
     "end_time": null,
     "exception": null,
     "start_time": null,
     "status": "completed"
    },
    "tags": []
   },
   "source": [
    "**Now that our data is clean and calculated time to move to next phase.**\n",
    "\n",
    "<font size=\"5\">**4. Analyse: - Identify Trends and Relationships**</font>\n",
    "The dataframe is now ready for descriptive analysis that will help us uncover some insights on how the casual riders and members use Cyclistic rideshare differently."
   ]
  },
  {
   "cell_type": "code",
   "execution_count": null,
   "id": "fe1a1621",
   "metadata": {
    "papermill": {
     "duration": null,
     "end_time": null,
     "exception": null,
     "start_time": null,
     "status": "completed"
    },
    "tags": [],
    "vscode": {
     "languageId": "r"
    }
   },
   "outputs": [],
   "source": [
    "# User count\n",
    "usercount <- all_trips %>% \n",
    "    group_by(customer_type) %>% \n",
    "    summarise(count = length(ride_id),\n",
    "              'percentage' = (length(ride_id) / nrow(all_trips)) * 100)\n",
    "\n",
    "usercount$percentage <- round(usercount$percentage, digits = 0)\n",
    "\n",
    "usercount"
   ]
  },
  {
   "cell_type": "code",
   "execution_count": null,
   "id": "23cffb6b",
   "metadata": {
    "papermill": {
     "duration": null,
     "end_time": null,
     "exception": null,
     "start_time": null,
     "status": "completed"
    },
    "tags": [],
    "vscode": {
     "languageId": "r"
    }
   },
   "outputs": [],
   "source": [
    "# Bike use count by user\n",
    "bikeused <- all_trips %>% \n",
    "    group_by(customer_type, ride_type) %>%\n",
    "    summarise(count = length(ride_type),\n",
    "         'percentage' = length(ride_type) / nrow(all_trips) * 100,\n",
    "         averagetime = mean(trip_duration),.groups = 'drop')\n",
    "\n",
    "bikeused$percentage <- round(bikeused$percentage, digits = 0)\n",
    "bikeused$averagetime <- round(bikeused$averagetime, digits = 0)\n",
    "\n",
    "bikeused"
   ]
  },
  {
   "cell_type": "markdown",
   "id": "3d07d76b",
   "metadata": {
    "papermill": {
     "duration": null,
     "end_time": null,
     "exception": null,
     "start_time": null,
     "status": "completed"
    },
    "tags": []
   },
   "source": [
    "**1. get some simple statistics on trip_duration and customer type for all customers.**"
   ]
  },
  {
   "cell_type": "code",
   "execution_count": null,
   "id": "e5e7c053",
   "metadata": {
    "papermill": {
     "duration": null,
     "end_time": null,
     "exception": null,
     "start_time": null,
     "status": "completed"
    },
    "tags": [],
    "vscode": {
     "languageId": "r"
    }
   },
   "outputs": [],
   "source": [
    "# statictical summary of trip_duration for all trips\n",
    "summary(all_trips$trip_duration)"
   ]
  },
  {
   "cell_type": "code",
   "execution_count": null,
   "id": "4759036e",
   "metadata": {
    "papermill": {
     "duration": null,
     "end_time": null,
     "exception": null,
     "start_time": null,
     "status": "completed"
    },
    "tags": [],
    "vscode": {
     "languageId": "r"
    }
   },
   "outputs": [],
   "source": [
    "#statistical summary of trip_duration by customer_type\n",
    "all_trips %>%\n",
    "    group_by(customer_type) %>%\n",
    "    summarise(min_trip_duration = min(trip_duration),max_trip_duration = max(trip_duration),\n",
    "              median_trip_duration = median(trip_duration), mean_trip_duration = mean(trip_duration))"
   ]
  },
  {
   "cell_type": "markdown",
   "id": "438909d7",
   "metadata": {
    "papermill": {
     "duration": null,
     "end_time": null,
     "exception": null,
     "start_time": null,
     "status": "completed"
    },
    "tags": []
   },
   "source": [
    "The mean trip duration of member riders is lower than the mean trip duration of all trips, while it is exactly the opposite for casual riders, whose mean trip duration is higher than the the mean trip duration of all trips. This tells us that **casual riders usually take the bikes out for a longer duration compared to members.**"
   ]
  },
  {
   "cell_type": "markdown",
   "id": "bf18ae3b",
   "metadata": {
    "papermill": {
     "duration": null,
     "end_time": null,
     "exception": null,
     "start_time": null,
     "status": "completed"
    },
    "tags": []
   },
   "source": [
    "**2. Calculating key info based on Months, Weekday, rushhours and Usertype**"
   ]
  },
  {
   "cell_type": "code",
   "execution_count": null,
   "id": "ca271b65",
   "metadata": {
    "papermill": {
     "duration": null,
     "end_time": null,
     "exception": null,
     "start_time": null,
     "status": "completed"
    },
    "tags": [],
    "vscode": {
     "languageId": "r"
    }
   },
   "outputs": [],
   "source": [
    "#Calculating key info based on Months\n",
    "user_type_monthly_data <- all_trips %>% \n",
    "  group_by(month,customer_type) %>% \n",
    "  summarise(number_of_rides = n(),\n",
    "            total_ride_time = sum(trip_duration),\n",
    "            average_ride_time = mean(trip_duration))\n",
    "\n",
    "user_type_monthly_data"
   ]
  },
  {
   "cell_type": "code",
   "execution_count": null,
   "id": "b60e33a7",
   "metadata": {
    "papermill": {
     "duration": null,
     "end_time": null,
     "exception": null,
     "start_time": null,
     "status": "completed"
    },
    "tags": [],
    "vscode": {
     "languageId": "r"
    }
   },
   "outputs": [],
   "source": [
    "#Calculating key info based on Weekday\n",
    "user_type_weekday_data <- all_trips %>% \n",
    "  group_by(day_of_the_week, customer_type) %>% \n",
    "  summarise(number_of_rides = n(),\n",
    "            total_ride_time = sum(trip_duration),\n",
    "            average_ride_time = mean(trip_duration))\n",
    "\n",
    "user_type_weekday_data"
   ]
  },
  {
   "cell_type": "code",
   "execution_count": null,
   "id": "7b0a2cb6",
   "metadata": {
    "papermill": {
     "duration": null,
     "end_time": null,
     "exception": null,
     "start_time": null,
     "status": "completed"
    },
    "tags": [],
    "vscode": {
     "languageId": "r"
    }
   },
   "outputs": [],
   "source": [
    "#Calculating key info based on rushhours\n",
    "rush_hours_usertype <- all_trips %>%  group_by(rush_hour, user_type) %>% \n",
    "  summarise(number_of_rides = n())\n",
    "\n",
    "rush_hours_usertype"
   ]
  },
  {
   "cell_type": "markdown",
   "id": "b70a83d5",
   "metadata": {
    "papermill": {
     "duration": null,
     "end_time": null,
     "exception": null,
     "start_time": null,
     "status": "completed"
    },
    "tags": []
   },
   "source": [
    "**Now that we have calculated all the necessary info, we move to the next phase.**\n",
    "\n",
    "<font size=\"6\">**Share**</font>\n",
    "\n",
    "**KEY TAKEAWAY:**\n"
   ]
  },
  {
   "cell_type": "markdown",
   "id": "c467e677",
   "metadata": {
    "papermill": {
     "duration": null,
     "end_time": null,
     "exception": null,
     "start_time": null,
     "status": "completed"
    },
    "tags": []
   },
   "source": [
    "* First we compare the Casual rides and Members's Ride on a **monthly basis**\n",
    "\n",
    "1. We can see that as we approach the warmer months the number of rides tends to increase and as we move towards colder months the total number of rides starts to fall. \n",
    "\n",
    "\n",
    "2. As we can see Members take more number of rides than Casual Riders throughout the year except the summer season that is June, July, August\n",
    "\n"
   ]
  },
  {
   "cell_type": "markdown",
   "id": "a3b9942b",
   "metadata": {
    "papermill": {
     "duration": null,
     "end_time": null,
     "exception": null,
     "start_time": null,
     "status": "completed"
    },
    "tags": []
   },
   "source": [
    "* Now we look towards their **monthly total ride time and average ride time**\n",
    "\n",
    "1. Except the winter months, Casual riders take the lead in total ride time for rest of the months.\n",
    "\n",
    "\n",
    "2. Even though Members took more number of rides in a year except summer months, average ride time is higher for casual riders for all the months.\n",
    "\n"
   ]
  },
  {
   "cell_type": "markdown",
   "id": "57751852",
   "metadata": {
    "papermill": {
     "duration": null,
     "end_time": null,
     "exception": null,
     "start_time": null,
     "status": "completed"
    },
    "tags": []
   },
   "source": [
    "* Now we check riding patterns on the **days of the week**\n",
    "\n",
    "1. Members have a steady riding throughout the days of the week but casual riders take most number of rides during the weekends.\n",
    "\n"
   ]
  },
  {
   "cell_type": "markdown",
   "id": "be122695",
   "metadata": {
    "papermill": {
     "duration": null,
     "end_time": null,
     "exception": null,
     "start_time": null,
     "status": "completed"
    },
    "tags": []
   },
   "source": [
    "* Now we check riding patterns during the **rush hour**\n",
    "\n",
    "1. As we can see that most of the Rush is during the Afternoon Period for both the user type.\n"
   ]
  },
  {
   "cell_type": "markdown",
   "id": "63516610",
   "metadata": {},
   "source": [
    "-----\n",
    "**Things to Consider:**\n",
    "\n",
    "The scope of this analysis is very limited, and because of that, additional data, as well as data points that may have been able to contribute to this report being more in granular. The data points that could have enhanced the report:\n",
    "\n",
    "**Tourism:** Information about tourists during the summer would add a dynamic to the spike in casual ridership during summer. It might have helped the marketing targeting the right consumers.\n",
    "\n",
    "**Office:** Information about how many rides were taken to an official district. That could have helped incentivizing the casual consumer using bikes for going to the office."
   ]
  },
  {
   "cell_type": "markdown",
   "id": "b14c29b4",
   "metadata": {
    "papermill": {
     "duration": null,
     "end_time": null,
     "exception": null,
     "start_time": null,
     "status": "completed"
    },
    "tags": []
   },
   "source": [
    "<font size=\"5\">**Actionable Plan:**</font>\n",
    "1. Introduce plans that should be more appealing towards the casual summer riders. Marketing for this plan should be done during the winter months.\n",
    "\n",
    "\n",
    "2. Plan pandering towards the weekend riders should be introduced so members can only unlock their bikes only on the weekend.\n",
    "\n",
    "\n",
    "3. Plans attracting the tourist destinations around Chicago may attract the tourist crowd during the summer season that can lock and unlock bikes at the station near a tourist destination."
   ]
  },
  {
   "cell_type": "code",
   "execution_count": null,
   "id": "71287775",
   "metadata": {},
   "outputs": [],
   "source": []
  }
 ],
 "metadata": {
  "kernelspec": {
   "display_name": "R",
   "language": "R",
   "name": "ir"
  },
  "language_info": {
   "codemirror_mode": "r",
   "file_extension": ".r",
   "mimetype": "text/x-r-source",
   "name": "R",
   "pygments_lexer": "r",
   "version": "3.6.1"
  },
  "papermill": {
   "default_parameters": {},
   "duration": 118.324461,
   "end_time": "2023-01-19T09:35:05.109071",
   "environment_variables": {},
   "exception": null,
   "input_path": "__notebook__.ipynb",
   "output_path": "__notebook__.ipynb",
   "parameters": {},
   "start_time": "2023-01-19T09:33:06.784610",
   "version": "2.3.4"
  }
 },
 "nbformat": 4,
 "nbformat_minor": 5
}
